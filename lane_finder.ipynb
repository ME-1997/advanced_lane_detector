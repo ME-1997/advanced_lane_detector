{
 "cells": [
  {
   "cell_type": "code",
   "execution_count": 2,
   "metadata": {},
   "outputs": [],
   "source": [
    "import numpy as np\n",
    "import cv2\n",
    "import matplotlib.pyplot as plt\n",
    "import glob\n",
    "import os\n"
   ]
  },
  {
   "cell_type": "markdown",
   "metadata": {},
   "source": [
    "# Load camera calibration images and test images"
   ]
  },
  {
   "cell_type": "code",
   "execution_count": 3,
   "metadata": {},
   "outputs": [],
   "source": [
    "calibration_images_dic=r'.\\camera_cal\\calibration*.jpg'\n",
    "\n",
    "test_images_dic=r'.\\test_images\\test*.jpg'\n",
    "\n",
    "input_vid_dic=r'.\\project_video.mp4'\n",
    "output_vid_dic=r'./output_vid/'\n",
    "\n",
    "\n",
    "\n",
    "images_locs = glob.glob(test_images_dic)\n",
    "\n",
    "test_images=[]\n",
    "for loc in images_locs:\n",
    "    \n",
    "    img=cv2.imread(loc)\n",
    "    test_images.append(img)\n",
    "    \n",
    "\n",
    "    \n",
    "    \n",
    "calib_locs = glob.glob(calibration_images_dic)\n",
    "\n",
    "calib_images=[]\n",
    "for loc in calib_locs:\n",
    "    \n",
    "    img=cv2.imread(loc)\n",
    "    calib_images.append(img)\n",
    "    \n",
    "\n"
   ]
  },
  {
   "cell_type": "markdown",
   "metadata": {},
   "source": [
    "# Get Calibration matrix and undistorted image"
   ]
  },
  {
   "cell_type": "code",
   "execution_count": 4,
   "metadata": {},
   "outputs": [],
   "source": [
    "def calibrate_camera(calib_images):\n",
    "    \n",
    "    \n",
    "    objp=np.zeros((6*9,3),np.float32)\n",
    "    objp[:,:2]=np.mgrid[0:9,0:6].T.reshape(-1,2)\n",
    "    \n",
    "    \n",
    "    objects=[]\n",
    "    corners_all=[]\n",
    "    \n",
    "    for img in calib_images:\n",
    "        \n",
    "        gray=cv2.cvtColor(img,cv2.COLOR_RGB2GRAY)\n",
    "        ret, corners = cv2.findChessboardCorners(gray, (9,6))\n",
    "        \n",
    "        if ret:\n",
    "            \n",
    "            objects.append(objp)\n",
    "            corners_all.append(corners)\n",
    "            \n",
    "    \n",
    "\n",
    "    _, M, dist, rvecs, tvecs = cv2.calibrateCamera(objects, corners_all,calib_images[0].shape[0:2] , None, None)\n",
    "\n",
    "    return M, dist, rvecs, tvecs "
   ]
  },
  {
   "cell_type": "code",
   "execution_count": 5,
   "metadata": {},
   "outputs": [],
   "source": [
    "def undistort(img,K,dist):\n",
    "    \n",
    "\n",
    "    return cv2.undistort(img, M, dist, None, M)\n"
   ]
  },
  {
   "cell_type": "markdown",
   "metadata": {},
   "source": [
    "# Thresholding lanes"
   ]
  },
  {
   "cell_type": "code",
   "execution_count": 6,
   "metadata": {},
   "outputs": [],
   "source": [
    "def gray_and_filter(img):\n",
    "    \n",
    "    gray = cv2.cvtColor(img,cv2.COLOR_BGR2GRAY)\n",
    "    gray = cv2.GaussianBlur(gray,(11,11),5)\n",
    "    \n",
    "    return gray"
   ]
  },
  {
   "cell_type": "code",
   "execution_count": 7,
   "metadata": {},
   "outputs": [],
   "source": [
    "def magnitude_thresholding(gray,max_th,min_th):\n",
    "    \n",
    "        \n",
    "    grad_x = np.absolute(cv2.Sobel(gray, cv2.CV_64F, 1, 0,ksize= 7))\n",
    "    grad_y = np.absolute(cv2.Sobel(gray, cv2.CV_64F, 0, 1,ksize= 7))\n",
    "    mag=np.sqrt(grad_x**2+grad_y**2)\n",
    "    \n",
    "    \n",
    "    norm_fac   =np.max(mag)/255\n",
    "    norm_fac_x =np.max(grad_x)/255\n",
    "    norm_fac_y =np.max(grad_y)/255\n",
    "\n",
    "    \n",
    "    mag_norm    = mag/norm_fac\n",
    "    grad_x_norm = grad_x/norm_fac_x\n",
    "    grad_y_norm = grad_y/norm_fac_y\n",
    "    \n",
    "    mag_norm   =mag_norm.astype(np.uint8)\n",
    "    grad_x_norm=grad_x_norm.astype(np.uint8)\n",
    "    grad_y_norm=grad_y_norm.astype(np.uint8)\n",
    "    \n",
    "    \n",
    "    mask_mag_x   =np.zeros_like(mag)\n",
    "    mask_mag_y   =np.zeros_like(mag)\n",
    "    mask_mag_all =np.zeros_like(mag)\n",
    "    \n",
    "    \n",
    "    mask_mag_all[(mag_norm>=min_th) & (mag_norm<=max_th)]=1\n",
    "    mask_mag_x[(grad_x_norm>=min_th) & (grad_x_norm<=max_th)]=1\n",
    "    mask_mag_y[(grad_y_norm>=min_th) & (grad_y_norm<=max_th)]=1\n",
    "\n",
    "    \n",
    "    \n",
    "    \n",
    "    return  np.logical_and(mask_mag_all , np.logical_or(grad_x, grad_y) )"
   ]
  },
  {
   "cell_type": "code",
   "execution_count": 8,
   "metadata": {},
   "outputs": [],
   "source": [
    "def direction_thresholding(gray, max_th=np.pi/2 , min_th=0):\n",
    "    \n",
    "    grad_x = np.absolute(cv2.Sobel(gray, cv2.CV_64F, 1, 0,ksize= 7))\n",
    "    grad_y = np.absolute(cv2.Sobel(gray, cv2.CV_64F, 0, 1,ksize= 7))\n",
    "    \n",
    "    grad=np.arctan2(np.absolute(grad_y),np.absolute(grad_x))\n",
    "    \n",
    "    mask_mag=np.zeros_like(grad)\n",
    "    mask_mag[(grad>=min_th) & (grad<=max_th)]=1\n",
    "    return mask_mag"
   ]
  },
  {
   "cell_type": "code",
   "execution_count": 9,
   "metadata": {},
   "outputs": [],
   "source": [
    "def S_thresholding(img, max_th, min_th):\n",
    "    \n",
    "    HLS=cv2.cvtColor(img,cv2.COLOR_RGB2HLS)\n",
    "    s=HLS[:,:,2]\n",
    "    \n",
    "    mask_s=np.zeros_like(s)\n",
    "    mask_s[(s>=min_th) & (s<=max_th)] = 1\n",
    "    \n",
    "    return mask_s\n"
   ]
  },
  {
   "cell_type": "code",
   "execution_count": 10,
   "metadata": {},
   "outputs": [],
   "source": [
    
  {
   "cell_type": "markdown",
   "metadata": {},
   "source": [
    "# Homography\n"
   ]
  },
  {
   "cell_type": "code",
   "execution_count": 11,
   "metadata": {},
   "outputs": [],
   "source": [
    "def get_transfrom_mat():\n",
    "    src = np.float32([[585,460],[203,720],[1127,720],[695,460]])\n",
    "    dist = np.float32([[320,0],[320,720],[960,720],[960,0]])\n",
    "\n",
    "\n",
    "    trans_mat = cv2.getPerspectiveTransform(src,dist) \n",
    "    \n",
    "    return trans_mat\n",
    "    "
   ]
  },
  {
   "cell_type": "code",
   "execution_count": 12,
   "metadata": {},
   "outputs": [],
   "source": [
    "def transfrom(img,trans_mat):\n",
    "    trans_img = cv2.warpPerspective(img, trans_mat, (img.shape[1], img.shape[0]))\n",
    "    \n",
    "    \n",
    "    return trans_img"
   ]
  },
  {
   "cell_type": "markdown",
   "metadata": {},
   "source": [
    "# Fit lanes"
   ]
  },
  {
   "cell_type": "code",
   "execution_count": 35,
   "metadata": {},
   "outputs": [],
   "source": [
    "def get_init_points(img):\n",
    "    \n",
    "    histogram = np.sum(img[img.shape[0]//2:,:], axis=0)\n",
    "    max= 0\n",
    "    i=0\n",
    "    L_index=None\n",
    "    for i in range(int( len(histogram)/2 ) ) :\n",
    "         \n",
    "        result =histogram[i]\n",
    "        if result > max :\n",
    "            max=result\n",
    "            L_index=i\n",
    "        i+=1\n",
    "        \n",
    "    max= 0\n",
    "    i=0\n",
    "    R_index=None\n",
    "    for i in range( int(len(histogram)/2) , len(histogram)) :\n",
    "        \n",
    "        result =histogram[i]\n",
    "        if result > max :\n",
    "            max=result\n",
    "            R_index=i\n",
    "        i+=1\n",
    "        \n",
    "        \n",
    "    y=img.shape[0]\n",
    "    \n",
    "    return (y,L_index) , (y,R_index) "
   ]
  },
  {
   "cell_type": "code",
   "execution_count": null,
   "metadata": {},
   "outputs": [],
   "source": []
  },
  {
   "cell_type": "code",
   "execution_count": 17,
   "metadata": {},
   "outputs": [],
   "source": [
    "M,dist,_,_=calibrate_camera(calib_images)\n",
    "\n",
    "calibrated_test_imgs=[]\n",
    "for img in test_images:\n",
    "    calibrated_img=undistort(img,M,dist)\n",
    "    calibrated_test_imgs.append(calibrated_img)\n",
    "    \n",
    "\n",
    "\n",
    "\n",
    "\n",
    "\n",
    "\n"
   ]
  },
  {
   "cell_type": "code",
   "execution_count": 30,
   "metadata": {},
   "outputs": [
    {
     "data": {
      "text/plain": [
       "<matplotlib.image.AxesImage at 0x23de2296948>"
      ]
     },
     "execution_count": 30,
     "metadata": {},
     "output_type": "execute_result"
    },
    {
     "data": {
      "image/png": "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\n",
      "text/plain": [
       "<Figure size 432x288 with 1 Axes>"
      ]
     },
     "metadata": {
      "needs_background": "light"
     },
     "output_type": "display_data"
    }
   ],
   "source": [
    "transformed_images=[]\n",
    "J=get_transfrom_mat()\n",
    "for img in calibrated_test_imgs:\n",
    "    \n",
    "    tf_img=transfrom(img,J)\n",
    "    transformed_images.append(tf_img)\n",
    "plt.imshow(transformed_images[1])"
   ]
  },
  {
   "cell_type": "code",
   "execution_count": 31,
   "metadata": {},
   "outputs": [],
   "source": [
    "img_filtered=gray_and_filter(transformed_images[1])\n",
    "\n",
    "mask_s= S_thresholding(transformed_images[1],255,110)\n",
    "mag_mask=magnitude_thresholding(img_filtered,255,100)\n",
    "dir_mask=direction_thresholding(img_filtered,1.02,0.65)\n",
    "\n",
    "mask = np.logical_and(mag_mask , dir_mask)\n",
    "final_mask= np.logical_or(mask_s , mask)"
   ]
  },
  {
   "cell_type": "code",
   "execution_count": 32,
   "metadata": {},
   "outputs": [
    {
     "data": {
      "text/plain": [
       "<matplotlib.image.AxesImage at 0x23de2d2c148>"
      ]
     },
     "execution_count": 32,
     "metadata": {},
     "output_type": "execute_result"
    },
    {
     "data": {
      "image/png": "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\n",
      "text/plain": [
       "<Figure size 432x288 with 1 Axes>"
      ]
     },
     "metadata": {
      "needs_background": "light"
     },
     "output_type": "display_data"
    }
   ],
   "source": [
    "\n",
    "plt.imshow(final_mask)\n"
   ]
  },
  {
   "cell_type": "code",
   "execution_count": 29,
   "metadata": {},
   "outputs": [
    {
     "name": "stdout",
     "output_type": "stream",
     "text": [
      "(720, 345) (720, 1042)\n"
     ]
    },
    {
     "data": {
      "image/png": "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\n",
      "text/plain": [
       "<Figure size 432x288 with 1 Axes>"
      ]
     },
     "metadata": {
      "needs_background": "light"
     },
     "output_type": "display_data"
    }
   ],
   "source": [
    "L,R=get_init_points(final_mask)\n",
    "\n",
    "print(L,R)"
   ]
  },
  {
   "cell_type": "code",
   "execution_count": 42,
   "metadata": {},
   "outputs": [
    {
     "data": {
      "image/png": "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\n",
      "text/plain": [
       "<Figure size 432x288 with 1 Axes>"
      ]
     },
     "metadata": {
      "needs_background": "light"
     },
     "output_type": "display_data"
    }
   ],
   "source": [
    "_,_,_,_=scan_lanes(final_mask)"
   ]
  },
  {
   "cell_type": "code",
   "execution_count": 41,
   "metadata": {},
   "outputs": [],
   "source": [
    "def scan_lanes(mask):\n",
    "    \n",
    "    (y_L , x_L_init),(y_R , x_R_init)= get_init_points(mask)\n",
    "    \n",
    "    traj_L=[]\n",
    "    traj_R=[]\n",
    "    \n",
    "    square_size =20\n",
    "    step_size   =1\n",
    "    n_steps     =10\n",
    "    \n",
    "    \n",
    "    \n",
    "    \n",
    "    traj_len=int(mask.shape[0]/square_size)\n",
    "    \n",
    "    traj_L_x=np.zeros(traj_len)\n",
    "    traj_L_y=np.zeros(traj_len)\n",
    "    \n",
    "    traj_R_x=np.zeros(traj_len)\n",
    "    traj_R_y=np.zeros(traj_len)\n",
    "    \n",
    "    \n",
    "    x_L=x_L_init\n",
    "    x_R=x_R_init\n",
    "    \n",
    "    mask_test=np.zeros_like(mask)\n",
    "    \n",
    "    for i in range(traj_len):\n",
    "        R_change=0\n",
    "        L_change=0\n",
    "        \n",
    "        \n",
    "        max_p=0\n",
    "        for j in range(-n_steps , n_steps+1):\n",
    "            \n",
    "            \n",
    "            y_1 = int(y_L-square_size - i*square_size)\n",
    "            y_2 = int(y_L-i*square_size)\n",
    "            \n",
    "            x_1 = int(x_L-square_size/2 + j*step_size)\n",
    "            x_2 = int(x_L+square_size/2 + j*step_size)\n",
    "            \n",
    "            \n",
    "            L_sq= mask[ y_1:y_2 , x_1:x_2]\n",
    "\n",
    "            count = np.sum(L_sq)\n",
    "            \n",
    "            if count > max_p:\n",
    "                L_change=1\n",
    "                max_p=count\n",
    "                x_L_new=x_L+j*step_size\n",
    "        \n",
    "        \n",
    "        max_p=0\n",
    "        for j in range(-n_steps , n_steps+1):\n",
    "            \n",
    "            \n",
    "            y_1 = int(y_R-square_size - i*square_size)\n",
    "            y_2 = int(y_R-i*square_size)\n",
    "            \n",
    "            x_1 = int(x_R-square_size/2 + j*step_size)\n",
    "            x_2 = int(x_R+square_size/2 + j*step_size)\n",
    "            \n",
    "            \n",
    "            R_sq= mask[ y_1:y_2 , x_1:x_2]\n",
    "\n",
    "            count = np.sum(R_sq)\n",
    "            \n",
    "            if count > max_p:\n",
    "                max_p=count\n",
    "                x_R_new=x_R+j*step_size\n",
    "                R_change=1\n",
    "        \n",
    "        if (not R_change and L_change):\n",
    "            delta = x_L_new-x_L\n",
    "            x_L   = x_L_new\n",
    "            x_R   = x_R + delta\n",
    "            \n",
    "        elif (not L_change and R_change):\n",
    "            delta = x_R_new-x_R\n",
    "            x_R   = x_R_new\n",
    "            x_L   = x_L + delta\n",
    "            \n",
    "        elif ( L_change and  R_change):\n",
    "            x_R   = x_R_new\n",
    "            x_L   = x_L_new\n",
    "            \n",
    "        \n",
    "        \n",
    "        \n",
    "        mask_test[y_L- i*square_size-1:y_L- i*square_size-1+10,x_L:x_L+10 ]=1\n",
    "        mask_test[y_R- i*square_size-1:y_R- i*square_size-1+10,x_R:x_R+10 ]=1\n",
    "        \n",
    "        plt.imshow(mask_test)\n",
    "\n",
    "        traj_L_x[i]=x_L\n",
    "        traj_L_y[i]=y_L- i*square_size\n",
    "        \n",
    "        traj_R_x[i]=x_R\n",
    "        traj_R_y[i]=y_R- i*square_size\n",
    "    \n",
    "    return traj_L_x , traj_L_y , traj_R_x , traj_R_y"
   ]
  },
  {
   "cell_type": "code",
   "execution_count": 17,
   "metadata": {},
   "outputs": [],
   "source": [
    "def fit_line_poly(x_l , y_l , x_r , y_r):\n",
    "    \n",
    "    p_l=np.polyfit(y_l,x_l,2)\n",
    "    p_r=np.polyfit(y_r,x_r,2)\n",
    "    \n",
    "    return p_l,p_r"
   ]
  },
  {
   "cell_type": "code",
   "execution_count": 18,
   "metadata": {},
   "outputs": [],
   "source": [
    "def draw_lane_img(img_transfromed, img_original ,p_l, p_r,J):\n",
    "    \n",
    "    \n",
    "    points_l=np.zeros([img_transfromed.shape[0]])\n",
    "    points_r=np.zeros([img_transfromed.shape[0]])\n",
    "    y_val   =np.zeros([img_transfromed.shape[0]])\n",
    "    \n",
    "    color_lane=np.zeros_like(img_transfromed).astype(np.uint8)\n",
    "    \n",
    "    for i in range (img_transfromed.shape[0]):\n",
    "        \n",
    "        x_1=int(p_l[0]*i**2+p_l[1]*i+p_l[2])\n",
    "        x_2=int(p_r[0]*i**2+p_r[1]*i+p_r[2])\n",
    "        \n",
    "        points_l[i]=x_1\n",
    "        points_r[i]=x_2\n",
    "        y_val[i]=i\n",
    "        \n",
    "\n",
    "    points_left = np.array([np.transpose(np.vstack([points_l, y_val]))])\n",
    "    points_right = np.array([np.flipud(np.transpose(np.vstack([points_r, y_val])))])\n",
    "    points = np.hstack((points_left, points_right))\n",
    "    \n",
    "    \n",
    "    cv2.fillPoly(color_lane, np.int_([points]), (0, 255, 0))\n",
    "    newwarp = cv2.warpPerspective(color_lane, np.linalg.inv(J), (img_original.shape[1], img_original.shape[0]))\n",
    "    result = cv2.addWeighted(img_original, 1, newwarp, 0.3, 0)\n",
    "\n",
    "    return result\n"
   ]
  },
  {
   "cell_type": "code",
   "execution_count": 25,
   "metadata": {},
   "outputs": [],
   "source": [
    "M,dist,_,_=calibrate_camera(calib_images)\n",
    "\n",
    "J          = get_transfrom_mat()\n",
    "\n",
    "\n",
    "def pipeline(img,M,dist,J):\n",
    "    \n",
    "    img=undistort(img,M,dist)\n",
    "        \n",
    "    img_trans=transfrom(img,J)\n",
    "    \n",
    "    img_filtered=gray_and_filter(img_trans)\n",
    "    \n",
    "    mask_s= S_thresholding(img_trans,255,150)\n",
    "    \n",
    "    mag_mask=magnitude_thresholding(img_filtered,255,100)\n",
    "    dir_mask=direction_thresholding(img_filtered,1.02,0.65)\n",
    "\n",
    "    \n",
    "    mask = np.logical_and(mag_mask , dir_mask)\n",
    "    final_mask= np.logical_or(mask_s , mask)\n",
    "\n",
    "    \n",
    "    x_l,y_l,x_r,y_r= scan_lanes(final_mask)\n",
    "    p_l,p_r        =fit_line_poly(x_l,y_l,x_r,y_r)\n",
    "    \n",
    "    new_frame=draw_lane_img(img_trans, img ,p_l, p_r,J)\n",
    "    \n",
    "    return new_frame"
   ]
  },
  {
   "cell_type": "code",
   "execution_count": 26,
   "metadata": {},
   "outputs": [],
   "source": [
    "\n",
    "clip = cv2.VideoCapture(input_vid_dic)\n",
    "fourcc = cv2.VideoWriter_fourcc(*'XVID')\n",
    "\n",
    "out = cv2.VideoWriter(output_vid_dic+'solidYellowLeft.avi',fourcc, 60,(int(clip.get(3)),int(clip.get(4))))\n",
    "\n",
    "\n",
    "    \n",
    "\n",
    "\n",
    "while clip.isOpened():\n",
    "    \n",
    "    flag,frame  = clip.read()\n",
    "    \n",
    "    if not flag:\n",
    "            break\n",
    "        \n",
    "    processed_frame = pipeline(frame,M,dist,J)\n",
    "    out.write(processed_frame)\n",
    " \n",
    "    \n",
    "    \n",
    "out.release()\n",
    "    \n",
    "clip.release()   \n",
    "\n",
    "cv2.destroyAllWindows()"
   ]
  },
  {
   "cell_type": "code",
   "execution_count": null,
   "metadata": {},
   "outputs": [],
   "source": []
  }
 ],
 "metadata": {
  "kernelspec": {
   "display_name": "Python 3",
   "language": "python",
   "name": "python3"
  },
  "language_info": {
   "codemirror_mode": {
    "name": "ipython",
    "version": 3
   },
   "file_extension": ".py",
   "mimetype": "text/x-python",
   "name": "python",
   "nbconvert_exporter": "python",
   "pygments_lexer": "ipython3",
   "version": "3.7.9"
  }
 },
 "nbformat": 4,
 "nbformat_minor": 4
}
